{
 "cells": [
  {
   "cell_type": "markdown",
   "id": "beb1507f",
   "metadata": {},
   "source": [
    "## Arrays in Bash"
   ]
  },
  {
   "cell_type": "markdown",
   "id": "561922b0",
   "metadata": {},
   "source": [
    "Create a normal array called capital_cities which contains the cities Sydney, Albany and Paris. Do not use the declare method; fill the array as you create it. Be sure to put double quotation marks around each element!\n",
    "\n",
    "Solution\n",
    "# Create a normal array with the mentioned elements\n",
    "capital_cities=(\"Sydney\" \"Albany\" \"Paris\")\n",
    "\n",
    "# Creating associative arrays\n",
    "Associative arrays are powerful constructs to use in your Bash scripting. They are very similar to 'normal' arrays, however they have a few important differences in their creation, manipulation and key properties.\n",
    "\n",
    "Associative arrays allow you to index using words rather than numbers, which can be important for ease of inputting and accessing properties. For example, rather than accessing 'index 4' of an array about a city's information, you can access the city_population property, which is a lot clearer!\n",
    "\n",
    "In this exercise we will practice creating and adding to an associative array. We will then access some special properties that are unique to associative arrays. Let's get started!\n",
    "\n",
    "NOTE: if you submit incorrect code, you may need to refresh the browser to remove old variables etc that affect the test suite before submitting again\n",
    "\n",
    "Create the same associative array (model_metrics) all in one line. (model_accuracy, 98), (model_name, \"knn\"), (model_f1, 0.82). Remember you must add square brackets* around the keys!\n",
    "Print out the array to see what you created.\n",
    "\n",
    "# Declare associative array with key-value pairs on one line\n",
    "declare -A model_metrics=([model_accuracy]=98 [model_name]=\"knn\" [model_f1]=0.82)\n",
    "\n",
    "# Print out the entire array\n",
    "echo ${model_metrics[@]}\n",
    "\n",
    "# An associative array has been created for you\n",
    "declare -A model_metrics=([model_accuracy]=98 [model_name]=\"knn\" [model_f1]=0.82)\n",
    "\n",
    "# Print out just the keys\n",
    "echo ${!model_metrics[@]}"
   ]
  },
  {
   "cell_type": "code",
   "execution_count": null,
   "id": "7fdfbfa4",
   "metadata": {},
   "outputs": [],
   "source": []
  }
 ],
 "metadata": {
  "kernelspec": {
   "display_name": "Python 3",
   "language": "python",
   "name": "python3"
  },
  "language_info": {
   "codemirror_mode": {
    "name": "ipython",
    "version": 3
   },
   "file_extension": ".py",
   "mimetype": "text/x-python",
   "name": "python",
   "nbconvert_exporter": "python",
   "pygments_lexer": "ipython3",
   "version": "3.8.8"
  }
 },
 "nbformat": 4,
 "nbformat_minor": 5
}
